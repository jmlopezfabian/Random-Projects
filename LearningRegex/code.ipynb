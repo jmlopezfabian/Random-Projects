{
 "cells": [
  {
   "cell_type": "code",
   "execution_count": 1,
   "metadata": {},
   "outputs": [],
   "source": [
    "import re"
   ]
  },
  {
   "cell_type": "code",
   "execution_count": 10,
   "metadata": {},
   "outputs": [
    {
     "name": "stdout",
     "output_type": "stream",
     "text": [
      "<re.Match object; span=(0, 4), match='Hola'>\n",
      "None\n"
     ]
    }
   ],
   "source": [
    "# Podemos buscar una cadena usando match\n",
    "print(re.match('Hola','Hola, ¿Como estas?'))\n",
    "\n",
    "#Si la palabra no es encontrada, no regresa nada\n",
    "print(re.match('abc', 'Hola, ¿Como estas?'))"
   ]
  },
  {
   "cell_type": "markdown",
   "metadata": {},
   "source": [
    "Patrones regex comunes.\n",
    "\n",
    "\n",
    "'\\w+' -> Primer palabra en una cadena.\n",
    "\n",
    "\\w -> Cualquier coincidencia alfanumerica, pero solo el primer caracter en la cadena.\n",
    "\n",
    "\\+ -> El patron debe aparecer una o mas veces seguidas."
   ]
  },
  {
   "cell_type": "code",
   "execution_count": 13,
   "metadata": {},
   "outputs": [
    {
     "data": {
      "text/plain": [
       "<re.Match object; span=(0, 1), match='a'>"
      ]
     },
     "execution_count": 13,
     "metadata": {},
     "output_type": "execute_result"
    }
   ],
   "source": [
    "re.match('\\w', 'asd asd asd')"
   ]
  },
  {
   "cell_type": "code",
   "execution_count": 12,
   "metadata": {},
   "outputs": [
    {
     "data": {
      "text/plain": [
       "<re.Match object; span=(0, 2), match='Hi'>"
      ]
     },
     "execution_count": 12,
     "metadata": {},
     "output_type": "execute_result"
    }
   ],
   "source": [
    "word = '\\w+'\n",
    "re.match(word, 'Hi asdsd')"
   ]
  },
  {
   "cell_type": "markdown",
   "metadata": {},
   "source": [
    "'\\d' -> primer digito numerico en una cadena.\n",
    "\n",
    "'\\d+' -> primeros digitos en una cadena hasta encontrar un espacio"
   ]
  },
  {
   "cell_type": "code",
   "execution_count": 16,
   "metadata": {},
   "outputs": [
    {
     "data": {
      "text/plain": [
       "<re.Match object; span=(0, 1), match='0'>"
      ]
     },
     "execution_count": 16,
     "metadata": {},
     "output_type": "execute_result"
    }
   ],
   "source": [
    "re.match('\\d','01112 0000')"
   ]
  },
  {
   "cell_type": "code",
   "execution_count": 17,
   "metadata": {},
   "outputs": [
    {
     "data": {
      "text/plain": [
       "<re.Match object; span=(0, 5), match='01112'>"
      ]
     },
     "execution_count": 17,
     "metadata": {},
     "output_type": "execute_result"
    }
   ],
   "source": [
    "re.match('\\d+','01112 0000')"
   ]
  },
  {
   "cell_type": "markdown",
   "metadata": {},
   "source": [
    "'\\s' -> espacio (Solo si esta al inicio de la cadena)"
   ]
  },
  {
   "cell_type": "code",
   "execution_count": 26,
   "metadata": {},
   "outputs": [
    {
     "name": "stdout",
     "output_type": "stream",
     "text": [
      "None\n",
      "<re.Match object; span=(0, 1), match=' '>\n"
     ]
    }
   ],
   "source": [
    "#No imprime nada ya no hay espacios al inicio de la cadena\n",
    "print(re.match('\\s', 'Hola soy gsu')) \n",
    "\n",
    "print(re.match('\\s', ' Hola sot gsu'))"
   ]
  },
  {
   "cell_type": "markdown",
   "metadata": {},
   "source": [
    "'.*' -> cualquier letra o simbolo"
   ]
  },
  {
   "cell_type": "code",
   "execution_count": 28,
   "metadata": {},
   "outputs": [
    {
     "name": "stdout",
     "output_type": "stream",
     "text": [
      "<re.Match object; span=(0, 12), match='Hola soy gsu'>\n"
     ]
    }
   ],
   "source": [
    "print(re.match('.*', 'Hola soy gsu'))"
   ]
  },
  {
   "cell_type": "markdown",
   "metadata": {},
   "source": [
    "Usar patrones pero con letras mayusculas se vuelve en la negación del patron, es decir, si \\s coincide con un espacio, \\S coincide con cualquier cosa que no sea un espacio"
   ]
  },
  {
   "cell_type": "code",
   "execution_count": 30,
   "metadata": {},
   "outputs": [
    {
     "name": "stdout",
     "output_type": "stream",
     "text": [
      "<re.Match object; span=(0, 1), match='H'>\n",
      "None\n"
     ]
    }
   ],
   "source": [
    "print(re.match('\\S', 'Hola'))\n",
    "print(re.match('\\S', ' Hola'))"
   ]
  },
  {
   "cell_type": "markdown",
   "metadata": {},
   "source": [
    "Tambien podemos buscar coincidencias de grupos de caracteres, colocandols entre corchetes"
   ]
  },
  {
   "cell_type": "code",
   "execution_count": 42,
   "metadata": {},
   "outputs": [
    {
     "name": "stdout",
     "output_type": "stream",
     "text": [
      "<re.Match object; span=(0, 1), match='a'>\n",
      "<re.Match object; span=(0, 1), match='z'>\n"
     ]
    }
   ],
   "source": [
    "print(re.match('[a-e]', 'a'))\n",
    "\n",
    "print(re.match('[a-z]', 'zee'))"
   ]
  },
  {
   "cell_type": "markdown",
   "metadata": {},
   "source": [
    "re module\n",
    "\n",
    "- split: divide el string segun un patron regex.\n",
    "- findall: encuentra todos los patrones en un string\n",
    "- search: busca un patron en el string\n",
    "- match: busca coincidencias en un substring o en un string basado en un patron."
   ]
  },
  {
   "cell_type": "code",
   "execution_count": 54,
   "metadata": {},
   "outputs": [
    {
     "name": "stdout",
     "output_type": "stream",
     "text": [
      "['Hola', 'soy', 'gsu']\n",
      "['o', 'a', 'o', 'u']\n",
      "<re.Match object; span=(6, 8), match='oy'>\n",
      "None\n"
     ]
    }
   ],
   "source": [
    "print(re.split('\\s', 'Hola soy gsu')) # Divide la cadena por espacios\n",
    "\n",
    "print(re.findall('[aeiou]', 'Hola soy gsu')) #Busca todas las vocales en una cadena\n",
    "\n",
    "print(re.search('oy', 'Hola soy gsu')) #busca el patron en el string, no importa que sea un substring\n",
    "\n",
    "print(re.match('oy', 'Hola soy gsu')) #Busca el patron en el string, no tiene que ser un substring"
   ]
  },
  {
   "cell_type": "markdown",
   "metadata": {},
   "source": [
    "Ejercicio"
   ]
  },
  {
   "cell_type": "code",
   "execution_count": 53,
   "metadata": {},
   "outputs": [],
   "source": [
    "my_string = \"Let's write RegEx!  Won't that be fun?  I sure think so.  Can you find 4 sentences?  Or perhaps, all 19 words?\""
   ]
  },
  {
   "cell_type": "markdown",
   "metadata": {},
   "source": [
    "Split my_string on each sentence ending. To do this:\n",
    "- Write a pattern called sentence_endings to match sentence endings (.?!).\n",
    "- Use re.split() to split my_string on the pattern and print the result."
   ]
  },
  {
   "cell_type": "code",
   "execution_count": 55,
   "metadata": {},
   "outputs": [
    {
     "name": "stdout",
     "output_type": "stream",
     "text": [
      "[\"Let's write RegEx\", \"  Won't that be fun\", '  I sure think so', '  Can you find 4 sentences', '  Or perhaps, all 19 words', '']\n"
     ]
    }
   ],
   "source": [
    "sentence_ending = '[.?!]'\n",
    "print(re.split(sentence_ending, my_string))"
   ]
  },
  {
   "cell_type": "markdown",
   "metadata": {},
   "source": [
    "Find and print all capitalized words in my_string by writing a pattern called capitalized_words and using re.findall().\n",
    "\n",
    "- Remember the [a-z] pattern shown in the video to match lowercase groups? Modify that pattern appropriately in order to match uppercase groups."
   ]
  },
  {
   "cell_type": "code",
   "execution_count": 59,
   "metadata": {},
   "outputs": [
    {
     "name": "stdout",
     "output_type": "stream",
     "text": [
      "['Let', 'RegEx', 'Won', 'Can', 'Or']\n"
     ]
    }
   ],
   "source": [
    "capitalized_words = '[A-Z]\\w+'\n",
    "print(re.findall(capitalized_words, my_string))"
   ]
  },
  {
   "cell_type": "markdown",
   "metadata": {},
   "source": [
    "Write a pattern called spaces to match one or more spaces (\"\\s+\") and then use re.split() to split my_string on this pattern, keeping all punctuation intact. Print the result."
   ]
  },
  {
   "cell_type": "code",
   "execution_count": 60,
   "metadata": {},
   "outputs": [
    {
     "name": "stdout",
     "output_type": "stream",
     "text": [
      "[\"Let's\", 'write', 'RegEx!', \"Won't\", 'that', 'be', 'fun?', 'I', 'sure', 'think', 'so.', 'Can', 'you', 'find', '4', 'sentences?', 'Or', 'perhaps,', 'all', '19', 'words?']\n"
     ]
    }
   ],
   "source": [
    "spaces = '\\s+'\n",
    "print(re.split(spaces,my_string))"
   ]
  },
  {
   "cell_type": "markdown",
   "metadata": {},
   "source": [
    "Find all digits in my_string by writing a pattern called digits (\"\\d+\") and using re.findall(). Print the result."
   ]
  },
  {
   "cell_type": "code",
   "execution_count": 62,
   "metadata": {},
   "outputs": [
    {
     "name": "stdout",
     "output_type": "stream",
     "text": [
      "['4', '19']\n"
     ]
    }
   ],
   "source": [
    "digits = '\\d+'\n",
    "print(re.findall(digits,my_string))"
   ]
  }
 ],
 "metadata": {
  "kernelspec": {
   "display_name": "base",
   "language": "python",
   "name": "python3"
  },
  "language_info": {
   "codemirror_mode": {
    "name": "ipython",
    "version": 3
   },
   "file_extension": ".py",
   "mimetype": "text/x-python",
   "name": "python",
   "nbconvert_exporter": "python",
   "pygments_lexer": "ipython3",
   "version": "3.11.7"
  }
 },
 "nbformat": 4,
 "nbformat_minor": 2
}
